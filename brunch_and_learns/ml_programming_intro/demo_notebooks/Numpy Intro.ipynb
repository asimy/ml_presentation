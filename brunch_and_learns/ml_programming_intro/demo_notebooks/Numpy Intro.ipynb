{
 "cells": [
  {
   "cell_type": "code",
   "execution_count": 2,
   "id": "4bc2cd79",
   "metadata": {},
   "outputs": [],
   "source": [
    "import numpy as np"
   ]
  },
  {
   "cell_type": "markdown",
   "id": "535ee9da",
   "metadata": {},
   "source": [
    "### 1-D Arrays"
   ]
  },
  {
   "cell_type": "code",
   "execution_count": 4,
   "id": "3b1c18fe",
   "metadata": {},
   "outputs": [],
   "source": [
    "my_array = np.array([1,5,2])"
   ]
  },
  {
   "cell_type": "markdown",
   "id": "86205649",
   "metadata": {},
   "source": [
    "### 2-D (and more Ds) Arrays"
   ]
  },
  {
   "cell_type": "code",
   "execution_count": 9,
   "id": "dc12beda",
   "metadata": {},
   "outputs": [],
   "source": [
    "my_matrix = np.array([(1,2,3),(3,2,1),(6,4,5)])\n",
    "\n",
    "my_tensor = np.array([[(1,2,3),(3,2,1),(6,4,5)],[(1,2,3),(3,2,1),(6,4,5)],[(1,2,3),(3,2,1),(6,4,5)]], dtype = float)"
   ]
  },
  {
   "cell_type": "markdown",
   "id": "1f8637b5",
   "metadata": {},
   "source": [
    "### What kind of array do you have?"
   ]
  },
  {
   "cell_type": "code",
   "execution_count": 11,
   "id": "3c955493",
   "metadata": {},
   "outputs": [
    {
     "name": "stdout",
     "output_type": "stream",
     "text": [
      "(3,) (3, 3) (3, 3, 3)\n"
     ]
    }
   ],
   "source": [
    "print(my_array.shape, my_matrix.shape, my_tensor.shape)"
   ]
  },
  {
   "cell_type": "markdown",
   "id": "1eb9ceac",
   "metadata": {},
   "source": [
    "### Array math"
   ]
  },
  {
   "cell_type": "code",
   "execution_count": 14,
   "id": "dedc185e",
   "metadata": {},
   "outputs": [
    {
     "data": {
      "text/plain": [
       "array([[1, 3, 6],\n",
       "       [2, 2, 4],\n",
       "       [3, 1, 5]])"
      ]
     },
     "execution_count": 14,
     "metadata": {},
     "output_type": "execute_result"
    }
   ],
   "source": [
    "my_matrix"
   ]
  },
  {
   "cell_type": "code",
   "execution_count": 15,
   "id": "f936337f",
   "metadata": {},
   "outputs": [
    {
     "data": {
      "text/plain": [
       "array([[1, 2, 3],\n",
       "       [3, 2, 1],\n",
       "       [6, 4, 5]])"
      ]
     },
     "execution_count": 15,
     "metadata": {},
     "output_type": "execute_result"
    }
   ],
   "source": [
    "my_matrix.T"
   ]
  },
  {
   "cell_type": "code",
   "execution_count": 16,
   "id": "6f2c698f",
   "metadata": {},
   "outputs": [
    {
     "data": {
      "text/plain": [
       "array([[ 1, 10,  6],\n",
       "       [ 3, 10,  2],\n",
       "       [ 6, 20, 10]])"
      ]
     },
     "execution_count": 16,
     "metadata": {},
     "output_type": "execute_result"
    }
   ],
   "source": [
    "np.multiply(my_matrix, my_array)"
   ]
  },
  {
   "cell_type": "code",
   "execution_count": 17,
   "id": "1bdf08a0",
   "metadata": {},
   "outputs": [
    {
     "data": {
      "text/plain": [
       "array([ 0.84147098, -0.95892427,  0.90929743])"
      ]
     },
     "execution_count": 17,
     "metadata": {},
     "output_type": "execute_result"
    }
   ],
   "source": [
    "np.sin(my_array)"
   ]
  },
  {
   "cell_type": "code",
   "execution_count": 18,
   "id": "9ebff328",
   "metadata": {},
   "outputs": [
    {
     "data": {
      "text/plain": [
       "30"
      ]
     },
     "execution_count": 18,
     "metadata": {},
     "output_type": "execute_result"
    }
   ],
   "source": [
    "my_array.dot(my_array)"
   ]
  },
  {
   "cell_type": "markdown",
   "id": "6049e521",
   "metadata": {},
   "source": [
    "### Getting from pandas dataframes to Numpy arrays"
   ]
  },
  {
   "cell_type": "code",
   "execution_count": 21,
   "id": "7d739251",
   "metadata": {},
   "outputs": [
    {
     "name": "stdout",
     "output_type": "stream",
     "text": [
      "<class 'numpy.ndarray'> [1 2 5]\n"
     ]
    }
   ],
   "source": [
    "import pandas as pd\n",
    "\n",
    "series = pd.Series([1, 2, 5])\n",
    "\n",
    "numpy_array = series.to_numpy() \n",
    "\n",
    "print(type(numpy_array), numpy_array)"
   ]
  }
 ],
 "metadata": {
  "kernelspec": {
   "display_name": "Python 3 (ipykernel)",
   "language": "python",
   "name": "python3"
  },
  "language_info": {
   "codemirror_mode": {
    "name": "ipython",
    "version": 3
   },
   "file_extension": ".py",
   "mimetype": "text/x-python",
   "name": "python",
   "nbconvert_exporter": "python",
   "pygments_lexer": "ipython3",
   "version": "3.9.12"
  }
 },
 "nbformat": 4,
 "nbformat_minor": 5
}
