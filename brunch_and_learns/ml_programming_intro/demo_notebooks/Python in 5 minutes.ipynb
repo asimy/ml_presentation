{
 "cells": [
  {
   "cell_type": "markdown",
   "id": "d829926c",
   "metadata": {},
   "source": [
    "### Python in 5 minutes\n",
    "#### Stolen from [Python in 5 minutes](https://codethump.com/skills/python-in-5-minutes/)"
   ]
  },
  {
   "cell_type": "markdown",
   "id": "bc0621c8",
   "metadata": {},
   "source": [
    "#### Strings"
   ]
  },
  {
   "cell_type": "code",
   "execution_count": 3,
   "id": "3f0e20f2",
   "metadata": {},
   "outputs": [
    {
     "name": "stdout",
     "output_type": "stream",
     "text": [
      "Yay, string interpolation 25!\n"
     ]
    }
   ],
   "source": [
    "'mississippi'.capitalize() == 'Mississippi'\n",
    "len('mississippi' ) == 11\n",
    "'mississippi'.count('s') == 4\n",
    "'mississippi'.replace('s', 'p') == 'mippippippi'\n",
    "\n",
    "# Python uses zero indexing\n",
    "'mississippi'.find('s') == 2\n",
    "\n",
    "'cool'.center(10, '-') == '---cool---'\n",
    "' '.isspace() == True\n",
    "\n",
    "('s' in 'mississippi') == True\n",
    "('x' not in 'mississippi') == True\n",
    "\n",
    "'2020'.isdigit() == True\n",
    "'mississippi'.isalpha() == True\n",
    "\n",
    "# Joining a sequence of strings may look surprising\n",
    "'-'.join(('a','b','c')) == 'a-b-c'\n",
    "\n",
    "# Python strings support arithmetic operators\n",
    "'missi'*2 == 'missimissi'\n",
    "\n",
    "# Slice and range slice with square brackets\n",
    "'mississippi'[1:5] == 'issi'\n",
    "'mississippi'[5] == 's'\n",
    "'mississippi'[:5] == 'missi'\n",
    "'mississippi'[5:] == 'ssippi'\n",
    "\n",
    "# Interpolation aka f strings\n",
    "print(f\"Yay, string interpolation { 5*5 }!\")\n",
    "\n"
   ]
  },
  {
   "cell_type": "markdown",
   "id": "938b59fb",
   "metadata": {},
   "source": [
    "#### Conditionals"
   ]
  },
  {
   "cell_type": "code",
   "execution_count": null,
   "id": "b446ce12",
   "metadata": {},
   "outputs": [],
   "source": [
    "if 99:\n",
    "    print('Yes') # Yes - non-zero number is truthy\n",
    "else:\n",
    "    print('No')\n",
    "\n",
    "# Logical operations as you would expect\n",
    "if 5 > 3 and 5 < 6:\n",
    "    print('Yes') # Yes\n",
    "else:\n",
    "    print('No')\n",
    "\n",
    "# negation\n",
    "if not 5 > 6:\n",
    "    print('Yes') # Yes\n",
    "else:\n",
    "    print('No')\n",
    "\n",
    "# Ternary conditionals\n",
    "a = None\n",
    "print ('yes') if a else ('no') # no"
   ]
  },
  {
   "cell_type": "markdown",
   "id": "2fccc09f",
   "metadata": {},
   "source": [
    "#### Lists and Dictionaries"
   ]
  },
  {
   "cell_type": "code",
   "execution_count": null,
   "id": "5d8fdc04",
   "metadata": {},
   "outputs": [],
   "source": [
    "# Lists\n",
    "a = ['first', 'second', 'third']\n",
    "a[1] == 'second'\n",
    "a[1:] == ['second', 'third']\n",
    "\n",
    "# negative indexes count backwards\n",
    "a[-1] == 'third'\n",
    "a[-2] == 'second'\n",
    "\n",
    "a.append('fourth')\n",
    "a.insert(2, 'second-ish')\n",
    "a.remove('third')\n",
    "a == ['first', 'second', 'second-ish', 'fourth']\n",
    "\n",
    "'third' in a == False\n",
    "len(a) == 4"
   ]
  },
  {
   "cell_type": "code",
   "execution_count": null,
   "id": "6471aaf5",
   "metadata": {},
   "outputs": [],
   "source": [
    "# Dictionaries\n",
    "country = {'abbrev': 'UK', 'full_name': 'United Kingdom', 'currency': 'Sterling'}\n",
    "\n",
    "country['abbrev'] == 'UK'\n",
    "country['currency'] = 'worthless'\n",
    "country # prints {'abbrev': 'UK', 'full_name': 'United Kingdom', 'currency': 'worthless'}\n",
    "\n",
    "country.keys() # prints dict_keys(['abbrev', 'full_name', 'currency'])\n",
    "country.values() # prints dict_values(['UK', 'United Kingdom', 'worthless'])"
   ]
  },
  {
   "cell_type": "markdown",
   "id": "a54b26d1",
   "metadata": {},
   "source": [
    "#### Functions"
   ]
  },
  {
   "cell_type": "code",
   "execution_count": 4,
   "id": "4f326a64",
   "metadata": {},
   "outputs": [
    {
     "name": "stdout",
     "output_type": "stream",
     "text": [
      "spam\n",
      "0\n",
      "1\n",
      "2\n",
      "0\n",
      "1\n",
      "2\n",
      "3\n"
     ]
    }
   ],
   "source": [
    "def spam():\n",
    "    print ('spam')\n",
    "\n",
    "spam()\n",
    "# prints spam\n",
    "\n",
    "# Default arguments\n",
    "def eggs(count=3):\n",
    "    for i in range(count):\n",
    "        print(i)\n",
    "\n",
    "eggs()\n",
    "# prints 0 1 2\n",
    "\n",
    "eggs(4)\n",
    "# prints 0 1 2 3"
   ]
  }
 ],
 "metadata": {
  "kernelspec": {
   "display_name": "Python 3 (ipykernel)",
   "language": "python",
   "name": "python3"
  },
  "language_info": {
   "codemirror_mode": {
    "name": "ipython",
    "version": 3
   },
   "file_extension": ".py",
   "mimetype": "text/x-python",
   "name": "python",
   "nbconvert_exporter": "python",
   "pygments_lexer": "ipython3",
   "version": "3.9.12"
  }
 },
 "nbformat": 4,
 "nbformat_minor": 5
}
