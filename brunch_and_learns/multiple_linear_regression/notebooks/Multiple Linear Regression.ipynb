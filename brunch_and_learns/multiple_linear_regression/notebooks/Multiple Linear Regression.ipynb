{
 "cells": [
  {
   "cell_type": "code",
   "execution_count": null,
   "id": "bb956175",
   "metadata": {},
   "outputs": [],
   "source": [
    "from sklearn.linear_model import LinearRegression\n",
    "from sklearn.neighbors import KNeighborsClassifier\n",
    "from sklearn.preprocessing import LabelEncoder\n",
    "\n",
    "import numpy as np\n",
    "import pandas as pd\n",
    "import matplotlib.pyplot as plt\n",
    "\n",
    "%matplotlib inline"
   ]
  },
  {
   "cell_type": "markdown",
   "id": "05ea3c9b",
   "metadata": {},
   "source": [
    "### A linear regression example\n",
    "\n",
    "We're going to look at the relationship between height in weight in 18 year old humans using [data](http://socr.ucla.edu/docs/resources/SOCR_Data/SOCR_Data_Dinov_020108_HeightsWeights.html) from UCLA's Statistics Online Computational Resource \n",
    "\n"
   ]
  },
  {
   "cell_type": "code",
   "execution_count": null,
   "id": "ecb9a101",
   "metadata": {},
   "outputs": [],
   "source": [
    "# first let's load the data\n",
    "hwdata = pd.read_csv('SOCR-HeightWeight.csv')\n",
    "\n",
    "print(hwdata.shape)\n",
    "\n",
    "hwdata.head(20)"
   ]
  },
  {
   "cell_type": "code",
   "execution_count": null,
   "id": "75411e81",
   "metadata": {},
   "outputs": [],
   "source": [
    "# by convention the independent variable is called X\n",
    "# in a more complicated ML example, each entry would be a vector of features\n",
    "# but in this example, it's just a number representing the height\n",
    "X = hwdata['height']\n",
    "\n",
    "# also by convention, the dependent variable is called y\n",
    "y = hwdata['weight']"
   ]
  },
  {
   "cell_type": "code",
   "execution_count": null,
   "id": "37bc4abb",
   "metadata": {},
   "outputs": [],
   "source": [
    "# to get a feel for how linear the weight vs height data is let's look at \n",
    "# the first 100 points in the data\n",
    "\n",
    "plt.plot(X[:100],y[:100], 'o')"
   ]
  },
  {
   "cell_type": "code",
   "execution_count": null,
   "id": "bda8d36e",
   "metadata": {},
   "outputs": [],
   "source": [
    "# the next two lines are the entire ML model building portion of the example\n",
    "\n",
    "lin_reg = LinearRegression()\n",
    "\n",
    "lin_reg.fit(np.c_[X],y)\n",
    "\n",
    "def guess_your_weight(height_in_inches):\n",
    "    \n",
    "    predicted_weight = lin_reg.coef_[0]*height_in_inches + lin_reg.intercept_\n",
    "    return predicted_weight"
   ]
  },
  {
   "cell_type": "code",
   "execution_count": null,
   "id": "0d152973",
   "metadata": {},
   "outputs": [],
   "source": [
    "X_min = X.min()\n",
    "X_max = X.max()\n",
    "y_min = guess_your_weight(X_min)\n",
    "y_max = guess_your_weight(X_max)\n",
    "\n",
    "plt.plot(X,y, 'o')\n",
    "plt.plot([X_min,X_max],[y_min,y_max],color='r')"
   ]
  },
  {
   "cell_type": "markdown",
   "id": "2cf09d73",
   "metadata": {},
   "source": [
    "#### Scoring the model\n",
    "While the above is the best model we can build for this data, it may not be a great model. We can use the $R^2$ (squared correlation or coefficient of determination) to see how well our linear model predicts an individual's weight given their height.\n",
    "\n",
    "Note that a score near 1 means we have a model that fits our data very well and a score near 0 means we don't."
   ]
  },
  {
   "cell_type": "code",
   "execution_count": null,
   "id": "580835a6",
   "metadata": {},
   "outputs": [],
   "source": [
    "print(\"Our model's r^2 is \", lin_reg.score(np.c_[X],y), \" so, it's not great...\")"
   ]
  },
  {
   "cell_type": "markdown",
   "id": "82b7f095",
   "metadata": {},
   "source": [
    "### A multiple linear model\n",
    "We're going to look at weight prediction again, but this time in fish! We're using the Fish Market data set from Kaggle (https://www.kaggle.com/datasets/aungpyaeap/fish-market)"
   ]
  },
  {
   "cell_type": "code",
   "execution_count": null,
   "id": "63e2fcb5",
   "metadata": {},
   "outputs": [],
   "source": [
    "# first let's load the data\n",
    "fish_data = pd.read_csv('Fish.csv')\n",
    "\n",
    "print(fish_data.shape)\n",
    "\n",
    "fish_data.head(20)"
   ]
  },
  {
   "cell_type": "markdown",
   "id": "ad8c051b",
   "metadata": {},
   "source": [
    "To keep the model simple, we're going to ignore the species column. If we wanted to improve the model, we'd encode that information numerically and include it in the analysis.\n",
    "\n",
    "In case you're wondering about the meaning of the different measurements, here are the slightly more detailed descriptions from the site.\n",
    "\n",
    "* Length1 = vertical length in cm\n",
    "\n",
    "* Length2 = diagonal length in cm\n",
    "\n",
    "* Length3 = cross length in cm\n",
    "\n",
    "* Height = height in cm\n",
    "\n",
    "* Width = diagonal width in cm\n",
    "\n",
    "That didn't really clear it up for me either..."
   ]
  },
  {
   "cell_type": "code",
   "execution_count": null,
   "id": "5af5d1a0",
   "metadata": {},
   "outputs": [],
   "source": [
    "# Dependent (Target) Variable\n",
    "y = fish_data['Weight']\n",
    "\n",
    "# Independant Variables\n",
    "X = fish_data.iloc[:,2:7]\n",
    "\n",
    "X.head()"
   ]
  },
  {
   "cell_type": "code",
   "execution_count": null,
   "id": "ad6853b5",
   "metadata": {},
   "outputs": [],
   "source": [
    "fish_model = LinearRegression()\n",
    "fish_model.fit(X,y)\n",
    "\n",
    "model_score = fish_model.score(X,y)"
   ]
  },
  {
   "cell_type": "code",
   "execution_count": null,
   "id": "854242a1",
   "metadata": {},
   "outputs": [],
   "source": [
    "intercept = fish_model.intercept_\n",
    "weights = map(str, fish_model.coef_)\n",
    "\n",
    "weighted_values = \") + (\".join([\" * \".join(tuple(item)) for item in list(zip(weights, X.columns))])\n",
    "\n",
    "print(\"Our spiffy new linear relationship:\")\n",
    "print(\"Weight =\", \"(\", weighted_values, \") + \", intercept)"
   ]
  },
  {
   "cell_type": "code",
   "execution_count": null,
   "id": "f0d5d080",
   "metadata": {},
   "outputs": [],
   "source": [
    "# Let's see how well a linear model did in this case.\n",
    "\n",
    "if model_score > 0.5:\n",
    "    print(\"At\", model_score, \"the R^2 isn't totally awful.\")\n",
    "else:\n",
    "    print(\"Yeah,\", model_score, \"is a pretty bad R^2, even for a quick example\")"
   ]
  },
  {
   "cell_type": "markdown",
   "id": "ca90e25b",
   "metadata": {},
   "source": [
    "Regardless of the outcome above, you can see a much more in-depth analysis of the data and creation of multiple linear model at https://www.kaggle.com/code/akdagmelih/multiplelinear-regression-fish-weight-estimation"
   ]
  }
 ],
 "metadata": {
  "kernelspec": {
   "display_name": "Python 3 (ipykernel)",
   "language": "python",
   "name": "python3"
  },
  "language_info": {
   "codemirror_mode": {
    "name": "ipython",
    "version": 3
   },
   "file_extension": ".py",
   "mimetype": "text/x-python",
   "name": "python",
   "nbconvert_exporter": "python",
   "pygments_lexer": "ipython3",
   "version": "3.9.7"
  }
 },
 "nbformat": 4,
 "nbformat_minor": 5
}
