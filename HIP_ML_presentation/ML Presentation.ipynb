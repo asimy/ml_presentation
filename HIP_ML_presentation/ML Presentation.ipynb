{
 "cells": [
  {
   "cell_type": "code",
   "execution_count": 2,
   "id": "bb956175",
   "metadata": {},
   "outputs": [],
   "source": [
    "from sklearn.linear_model import LinearRegression\n",
    "from sklearn.neighbors import KNeighborsClassifier\n",
    "from sklearn.preprocessing import LabelEncoder\n",
    "\n",
    "import numpy as np\n",
    "import pandas as pd\n",
    "import matplotlib.pyplot as plt\n",
    "\n",
    "%matplotlib inline"
   ]
  },
  {
   "cell_type": "markdown",
   "id": "05ea3c9b",
   "metadata": {},
   "source": [
    "### A linear regression example\n",
    "\n",
    "We're going to look at the relationship between height in weight in 18 year old humans using [data](http://socr.ucla.edu/docs/resources/SOCR_Data/SOCR_Data_Dinov_020108_HeightsWeights.html) from UCLA's Statistics Online Computational Resource \n",
    "\n"
   ]
  },
  {
   "cell_type": "code",
   "execution_count": 3,
   "id": "ecb9a101",
   "metadata": {},
   "outputs": [
    {
     "name": "stdout",
     "output_type": "stream",
     "text": [
      "(25000, 2)\n"
     ]
    },
    {
     "data": {
      "text/html": [
       "<div>\n",
       "<style scoped>\n",
       "    .dataframe tbody tr th:only-of-type {\n",
       "        vertical-align: middle;\n",
       "    }\n",
       "\n",
       "    .dataframe tbody tr th {\n",
       "        vertical-align: top;\n",
       "    }\n",
       "\n",
       "    .dataframe thead th {\n",
       "        text-align: right;\n",
       "    }\n",
       "</style>\n",
       "<table border=\"1\" class=\"dataframe\">\n",
       "  <thead>\n",
       "    <tr style=\"text-align: right;\">\n",
       "      <th></th>\n",
       "      <th>height</th>\n",
       "      <th>weight</th>\n",
       "    </tr>\n",
       "  </thead>\n",
       "  <tbody>\n",
       "    <tr>\n",
       "      <th>0</th>\n",
       "      <td>65.78331</td>\n",
       "      <td>112.9925</td>\n",
       "    </tr>\n",
       "    <tr>\n",
       "      <th>1</th>\n",
       "      <td>71.51521</td>\n",
       "      <td>136.4873</td>\n",
       "    </tr>\n",
       "    <tr>\n",
       "      <th>2</th>\n",
       "      <td>69.39874</td>\n",
       "      <td>153.0269</td>\n",
       "    </tr>\n",
       "    <tr>\n",
       "      <th>3</th>\n",
       "      <td>68.21660</td>\n",
       "      <td>142.3354</td>\n",
       "    </tr>\n",
       "    <tr>\n",
       "      <th>4</th>\n",
       "      <td>67.78781</td>\n",
       "      <td>144.2971</td>\n",
       "    </tr>\n",
       "    <tr>\n",
       "      <th>5</th>\n",
       "      <td>68.69784</td>\n",
       "      <td>123.3024</td>\n",
       "    </tr>\n",
       "    <tr>\n",
       "      <th>6</th>\n",
       "      <td>69.80204</td>\n",
       "      <td>141.4947</td>\n",
       "    </tr>\n",
       "    <tr>\n",
       "      <th>7</th>\n",
       "      <td>70.01472</td>\n",
       "      <td>136.4623</td>\n",
       "    </tr>\n",
       "    <tr>\n",
       "      <th>8</th>\n",
       "      <td>67.90265</td>\n",
       "      <td>112.3723</td>\n",
       "    </tr>\n",
       "    <tr>\n",
       "      <th>9</th>\n",
       "      <td>66.78236</td>\n",
       "      <td>120.6672</td>\n",
       "    </tr>\n",
       "    <tr>\n",
       "      <th>10</th>\n",
       "      <td>66.48769</td>\n",
       "      <td>127.4516</td>\n",
       "    </tr>\n",
       "    <tr>\n",
       "      <th>11</th>\n",
       "      <td>67.62333</td>\n",
       "      <td>114.1430</td>\n",
       "    </tr>\n",
       "    <tr>\n",
       "      <th>12</th>\n",
       "      <td>68.30248</td>\n",
       "      <td>125.6107</td>\n",
       "    </tr>\n",
       "    <tr>\n",
       "      <th>13</th>\n",
       "      <td>67.11656</td>\n",
       "      <td>122.4618</td>\n",
       "    </tr>\n",
       "    <tr>\n",
       "      <th>14</th>\n",
       "      <td>68.27967</td>\n",
       "      <td>116.0866</td>\n",
       "    </tr>\n",
       "    <tr>\n",
       "      <th>15</th>\n",
       "      <td>71.09160</td>\n",
       "      <td>139.9975</td>\n",
       "    </tr>\n",
       "    <tr>\n",
       "      <th>16</th>\n",
       "      <td>66.46100</td>\n",
       "      <td>129.5023</td>\n",
       "    </tr>\n",
       "    <tr>\n",
       "      <th>17</th>\n",
       "      <td>68.64927</td>\n",
       "      <td>142.9733</td>\n",
       "    </tr>\n",
       "    <tr>\n",
       "      <th>18</th>\n",
       "      <td>71.23033</td>\n",
       "      <td>137.9025</td>\n",
       "    </tr>\n",
       "    <tr>\n",
       "      <th>19</th>\n",
       "      <td>67.13118</td>\n",
       "      <td>124.0449</td>\n",
       "    </tr>\n",
       "  </tbody>\n",
       "</table>\n",
       "</div>"
      ],
      "text/plain": [
       "      height    weight\n",
       "0   65.78331  112.9925\n",
       "1   71.51521  136.4873\n",
       "2   69.39874  153.0269\n",
       "3   68.21660  142.3354\n",
       "4   67.78781  144.2971\n",
       "5   68.69784  123.3024\n",
       "6   69.80204  141.4947\n",
       "7   70.01472  136.4623\n",
       "8   67.90265  112.3723\n",
       "9   66.78236  120.6672\n",
       "10  66.48769  127.4516\n",
       "11  67.62333  114.1430\n",
       "12  68.30248  125.6107\n",
       "13  67.11656  122.4618\n",
       "14  68.27967  116.0866\n",
       "15  71.09160  139.9975\n",
       "16  66.46100  129.5023\n",
       "17  68.64927  142.9733\n",
       "18  71.23033  137.9025\n",
       "19  67.13118  124.0449"
      ]
     },
     "execution_count": 3,
     "metadata": {},
     "output_type": "execute_result"
    }
   ],
   "source": [
    "# first let's load the data\n",
    "hwdata = pd.read_csv('SOCR-HeightWeight.csv')\n",
    "\n",
    "print(hwdata.shape)\n",
    "\n",
    "hwdata.head(20)"
   ]
  },
  {
   "cell_type": "code",
   "execution_count": 4,
   "id": "75411e81",
   "metadata": {},
   "outputs": [],
   "source": [
    "# by convention the independent variable is called X\n",
    "# in a more complicated ML example, each entry would be a vector of features\n",
    "# but in this example, it's just a number representing the height\n",
    "X = hwdata['height']\n",
    "\n",
    "# also by convention, the dependent variable is called y\n",
    "y = hwdata['weight']"
   ]
  },
  {
   "cell_type": "code",
   "execution_count": 5,
   "id": "37bc4abb",
   "metadata": {},
   "outputs": [
    {
     "data": {
      "text/plain": [
       "[<matplotlib.lines.Line2D at 0x7fe0fcf80490>]"
      ]
     },
     "execution_count": 5,
     "metadata": {},
     "output_type": "execute_result"
    },
    {
     "data": {
      "image/png": "[encoded data removed]",
      "text/plain": [
       "<Figure size 432x288 with 1 Axes>"
      ]
     },
     "metadata": {
      "needs_background": "light"
     },
     "output_type": "display_data"
    }
   ],
   "source": [
    "# to get a feel for how linear the weight vs height data is let's look at \n",
    "# the first 100 points in the data\n",
    "\n",
    "plt.plot(X[:100],y[:100], 'o')"
   ]
  },
  {
   "cell_type": "code",
   "execution_count": 6,
   "id": "bda8d36e",
   "metadata": {},
   "outputs": [
    {
     "name": "stdout",
     "output_type": "stream",
     "text": [
      "intercept =  -82.57574306454065\n",
      "slope =  3.0834764454029626\n"
     ]
    }
   ],
   "source": [
    "# the next two lines are the entire ML model building portion of the example\n",
    "\n",
    "lin_reg = LinearRegression()\n",
    "\n",
    "lin_reg.fit(np.c_[X],y)\n",
    "\n",
    "\n",
    "print('intercept = ', lin_reg.intercept_ )\n",
    "print('slope = ', lin_reg.coef_[0])"
   ]
  },
  {
   "cell_type": "code",
   "execution_count": 7,
   "id": "5e036c01",
   "metadata": {},
   "outputs": [
    {
     "name": "stdout",
     "output_type": "stream",
     "text": [
      "For the height of 68 the predicted weight is 127.10065522286082\n"
     ]
    },
    {
     "data": {
      "text/plain": [
       "127.10065522286082"
      ]
     },
     "execution_count": 7,
     "metadata": {},
     "output_type": "execute_result"
    }
   ],
   "source": [
    "def guess_your_weight(height_in_inches):\n",
    "    \n",
    "    predicted_weight = lin_reg.coef_[0]*height_in_inches + lin_reg.intercept_\n",
    "    print(f\"For the height of {height_in_inches} the predicted weight is {predicted_weight}\")\n",
    "    return predicted_weight\n",
    "\n",
    "guess_your_weight(68)"
   ]
  },
  {
   "cell_type": "code",
   "execution_count": 8,
   "id": "0d152973",
   "metadata": {},
   "outputs": [
    {
     "name": "stdout",
     "output_type": "stream",
     "text": [
      "For the height of 60.27836 the predicted weight is 103.29116016297947\n",
      "For the height of 75.1528 the predicted weight is 149.1561455415391\n"
     ]
    },
    {
     "data": {
      "text/plain": [
       "[<matplotlib.lines.Line2D at 0x7fe0fe0306d0>]"
      ]
     },
     "execution_count": 8,
     "metadata": {},
     "output_type": "execute_result"
    },
    {
     "data": {
      "image/png": "[encoded data removed]",
      "text/plain": [
       "<Figure size 432x288 with 1 Axes>"
      ]
     },
     "metadata": {
      "needs_background": "light"
     },
     "output_type": "display_data"
    }
   ],
   "source": [
    "X_min = X.min()\n",
    "X_max = X.max()\n",
    "y_min = guess_your_weight(X_min)\n",
    "y_max = guess_your_weight(X_max)\n",
    "\n",
    "plt.plot(X,y, 'o')\n",
    "plt.plot([X_min,X_max],[y_min,y_max],color='r')"
   ]
  },
  {
   "cell_type": "markdown",
   "id": "91f9f655",
   "metadata": {},
   "source": [
    "### A classification example\n",
    "\n",
    "Now we're going to look at a completely contrived example to see if we can use the general weather and temperature to decide if children are going to play on the local playground"
   ]
  },
  {
   "cell_type": "code",
   "execution_count": 9,
   "id": "a98692ea",
   "metadata": {},
   "outputs": [],
   "source": [
    "weather = ['Sunny','Sunny','Overcast','Rainy','Rainy','Rainy','Overcast',\n",
    "           'Sunny','Sunny','Rainy','Sunny','Overcast','Overcast','Rainy']\n",
    "\n",
    "temp = ['Hot','Hot','Hot','Mild','Cool','Cool','Cool',\n",
    "        'Mild','Cool','Mild','Mild','Mild','Hot','Mild']\n",
    "\n",
    "play = ['No', 'No','Yes', 'Yes','Yes','No','Yes',\n",
    "        'No','Yes','Yes','Yes','Yes','Yes','No']"
   ]
  },
  {
   "cell_type": "code",
   "execution_count": 10,
   "id": "f142b864",
   "metadata": {},
   "outputs": [],
   "source": [
    "le = LabelEncoder()\n",
    "\n",
    "weather_encoded = le.fit_transform(weather)\n",
    "temp_encoded = le.fit_transform(temp)\n",
    "\n",
    "features = np.c_[weather_encoded, temp_encoded]\n",
    "\n",
    "label = le.fit_transform(play)"
   ]
  },
  {
   "cell_type": "code",
   "execution_count": 11,
   "id": "9db2e08b",
   "metadata": {},
   "outputs": [
    {
     "name": "stdout",
     "output_type": "stream",
     "text": [
      "['No', 'No', 'Yes', 'Yes', 'Yes', 'No', 'Yes', 'No', 'Yes', 'Yes', 'Yes', 'Yes', 'Yes', 'No'] [0 0 1 1 1 0 1 0 1 1 1 1 1 0]\n",
      "['Sunny', 'Sunny', 'Overcast', 'Rainy', 'Rainy', 'Rainy', 'Overcast', 'Sunny', 'Sunny', 'Rainy', 'Sunny', 'Overcast', 'Overcast', 'Rainy'] [2 2 0 1 1 1 0 2 2 1 2 0 0 1]\n",
      "['Hot', 'Hot', 'Hot', 'Mild', 'Cool', 'Cool', 'Cool', 'Mild', 'Cool', 'Mild', 'Mild', 'Mild', 'Hot', 'Mild'] [1 1 1 2 0 0 0 2 0 2 2 2 1 2]\n"
     ]
    }
   ],
   "source": [
    "print(play, label)\n",
    "print(weather, weather_encoded)\n",
    "print(temp, temp_encoded)"
   ]
  },
  {
   "cell_type": "code",
   "execution_count": 12,
   "id": "b41cdd58",
   "metadata": {},
   "outputs": [
    {
     "name": "stdout",
     "output_type": "stream",
     "text": [
      "[[2 1]\n",
      " [2 1]\n",
      " [0 1]\n",
      " [1 2]\n",
      " [1 0]\n",
      " [1 0]\n",
      " [0 0]\n",
      " [2 2]\n",
      " [2 0]\n",
      " [1 2]\n",
      " [2 2]\n",
      " [0 2]\n",
      " [0 1]\n",
      " [1 2]]\n"
     ]
    }
   ],
   "source": [
    "print(features)"
   ]
  },
  {
   "cell_type": "code",
   "execution_count": 13,
   "id": "c0be75f0",
   "metadata": {},
   "outputs": [
    {
     "name": "stdout",
     "output_type": "stream",
     "text": [
      "[1]\n"
     ]
    }
   ],
   "source": [
    "knn_clf = KNeighborsClassifier(n_neighbors=3)\n",
    "\n",
    "knn_clf.fit(features,label)\n",
    "\n",
    "will_play = knn_clf.predict([[0,2]]) # overcast and mild\n",
    "\n",
    "print(will_play)"
   ]
  }
 ],
 "metadata": {
  "kernelspec": {
   "display_name": "Python 3 (ipykernel)",
   "language": "python",
   "name": "python3"
  },
  "language_info": {
   "codemirror_mode": {
    "name": "ipython",
    "version": 3
   },
   "file_extension": ".py",
   "mimetype": "text/x-python",
   "name": "python",
   "nbconvert_exporter": "python",
   "pygments_lexer": "ipython3",
   "version": "3.9.7"
  }
 },
 "nbformat": 4,
 "nbformat_minor": 5
}
