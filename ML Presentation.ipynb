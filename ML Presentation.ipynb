{
 "cells": [
  {
   "cell_type": "code",
   "execution_count": null,
   "id": "bb956175",
   "metadata": {},
   "outputs": [],
   "source": [
    "from sklearn.linear_model import LinearRegression\n",
    "from sklearn.neighbors import KNeighborsClassifier\n",
    "from sklearn.preprocessing import LabelEncoder\n",
    "\n",
    "import numpy as np\n",
    "import pandas as pd\n",
    "import matplotlib.pyplot as plt\n",
    "\n",
    "%matplotlib inline"
   ]
  },
  {
   "cell_type": "markdown",
   "id": "05ea3c9b",
   "metadata": {},
   "source": [
    "### A linear regression example\n",
    "\n",
    "We're going to look at the relationship between height in weight in 18 year old humans using [data](http://socr.ucla.edu/docs/resources/SOCR_Data/SOCR_Data_Dinov_020108_HeightsWeights.html) from UCLA's Statistics Online Computational Resource \n",
    "\n"
   ]
  },
  {
   "cell_type": "code",
   "execution_count": null,
   "id": "ecb9a101",
   "metadata": {},
   "outputs": [],
   "source": [
    "# first let's load the data\n",
    "hwdata = pd.read_csv('SOCR-HeightWeight.csv')\n",
    "\n",
    "print(hwdata.shape)\n",
    "\n",
    "hwdata.head(20)"
   ]
  },
  {
   "cell_type": "code",
   "execution_count": null,
   "id": "75411e81",
   "metadata": {},
   "outputs": [],
   "source": [
    "# by convention the independent variable is called X\n",
    "# in a more complicated ML example, each entry would be a vector of features\n",
    "# but in this example, it's just a number representing the height\n",
    "X = hwdata['height']\n",
    "\n",
    "# also by convention, the dependent variable is called y\n",
    "y = hwdata['weight']"
   ]
  },
  {
   "cell_type": "code",
   "execution_count": null,
   "id": "37bc4abb",
   "metadata": {},
   "outputs": [],
   "source": [
    "# to get a feel for how linear the weight vs height data is let's look at \n",
    "# the first 100 points in the data\n",
    "\n",
    "plt.plot(X[:100],y[:100], 'o')"
   ]
  },
  {
   "cell_type": "code",
   "execution_count": null,
   "id": "bda8d36e",
   "metadata": {},
   "outputs": [],
   "source": [
    "# the next two lines are the entire ML model building portion of the example\n",
    "\n",
    "lin_reg = LinearRegression()\n",
    "\n",
    "lin_reg.fit(np.c_[X],y)\n",
    "\n",
    "\n",
    "print('intercept = ', lin_reg.intercept_ )\n",
    "print('slope = ', lin_reg.coef_[0])"
   ]
  },
  {
   "cell_type": "code",
   "execution_count": null,
   "id": "5e036c01",
   "metadata": {},
   "outputs": [],
   "source": [
    "def guess_your_weight(height_in_inches):\n",
    "    \n",
    "    predicted_weight = lin_reg.coef_[0]*height_in_inches + lin_reg.intercept_\n",
    "    print(f\"For the height of {height_in_inches} the predicted weight is {predicted_weight}\")\n",
    "    return predicted_weight\n",
    "\n",
    "guess_your_weight(68)"
   ]
  },
  {
   "cell_type": "code",
   "execution_count": null,
   "id": "0d152973",
   "metadata": {},
   "outputs": [],
   "source": [
    "X_min = X.min()\n",
    "X_max = X.max()\n",
    "y_min = guess_your_weight(X_min)\n",
    "y_max = guess_your_weight(X_max)\n",
    "\n",
    "plt.plot(X,y, 'o')\n",
    "plt.plot([X_min,X_max],[y_min,y_max],color='r')"
   ]
  },
  {
   "cell_type": "markdown",
   "id": "91f9f655",
   "metadata": {},
   "source": [
    "### A classification example\n",
    "\n",
    "Now we're going to look at a completely contrived example to see if we can use the general weather and temperature to decide if children are going to play on the local playground"
   ]
  },
  {
   "cell_type": "code",
   "execution_count": null,
   "id": "a98692ea",
   "metadata": {},
   "outputs": [],
   "source": [
    "weather = ['Sunny','Sunny','Overcast','Rainy','Rainy','Rainy','Overcast',\n",
    "           'Sunny','Sunny','Rainy','Sunny','Overcast','Overcast','Rainy']\n",
    "\n",
    "temp = ['Hot','Hot','Hot','Mild','Cool','Cool','Cool',\n",
    "        'Mild','Cool','Mild','Mild','Mild','Hot','Mild']\n",
    "\n",
    "play = ['No', 'No','Yes', 'Yes','Yes','No','Yes',\n",
    "        'No','Yes','Yes','Yes','Yes','Yes','No']"
   ]
  },
  {
   "cell_type": "code",
   "execution_count": null,
   "id": "f142b864",
   "metadata": {},
   "outputs": [],
   "source": [
    "le = LabelEncoder()\n",
    "\n",
    "weather_encoded = le.fit_transform(weather)\n",
    "temp_encoded = le.fit_transform(temp)\n",
    "\n",
    "features = np.c_[weather_encoded, temp_encoded]\n",
    "\n",
    "label = le.fit_transform(play)"
   ]
  },
  {
   "cell_type": "code",
   "execution_count": null,
   "id": "9db2e08b",
   "metadata": {},
   "outputs": [],
   "source": [
    "print(play, label)\n",
    "print(weather, weather_encoded)\n",
    "print(temp, temp_encoded)"
   ]
  },
  {
   "cell_type": "code",
   "execution_count": null,
   "id": "b41cdd58",
   "metadata": {},
   "outputs": [],
   "source": [
    "print(features)"
   ]
  },
  {
   "cell_type": "code",
   "execution_count": null,
   "id": "c0be75f0",
   "metadata": {},
   "outputs": [],
   "source": [
    "knn_clf = KNeighborsClassifier(n_neighbors=3)\n",
    "\n",
    "knn_clf.fit(features,label)\n",
    "\n",
    "will_play = knn_clf.predict([[0,2]]) # overcast and mild\n",
    "\n",
    "print(will_play)"
   ]
  }
 ],
 "metadata": {
  "kernelspec": {
   "display_name": "Python 3 (ipykernel)",
   "language": "python",
   "name": "python3"
  },
  "language_info": {
   "codemirror_mode": {
    "name": "ipython",
    "version": 3
   },
   "file_extension": ".py",
   "mimetype": "text/x-python",
   "name": "python",
   "nbconvert_exporter": "python",
   "pygments_lexer": "ipython3",
   "version": "3.9.7"
  }
 },
 "nbformat": 4,
 "nbformat_minor": 5
}
